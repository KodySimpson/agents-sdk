{
 "cells": [
  {
   "cell_type": "code",
   "execution_count": 6,
   "metadata": {},
   "outputs": [
    {
     "name": "stdout",
     "output_type": "stream",
     "text": [
      "API Key Loaded: True\n"
     ]
    }
   ],
   "source": [
    "from dotenv import load_dotenv\n",
    "import os\n",
    "\n",
    "load_dotenv()  # Load environment variables from .env\n",
    "\n",
    "api_key = os.environ.get(\"OPENAI_API_KEY\")\n",
    "print(f\"API Key Loaded: {bool(api_key)}\")  # Optional check\n",
    "\n",
    "if not api_key:\n",
    "    raise ValueError(\"OPENAI_API_KEY is not set in the environment variables\")\n"
   ]
  },
  {
   "cell_type": "code",
   "execution_count": 7,
   "metadata": {},
   "outputs": [
    {
     "name": "stdout",
     "output_type": "stream",
     "text": [
      "I'd be happy to help! Here are five general tips to improve your daily routine:\n",
      "\n",
      "1. **Prioritize Sleep:**\n",
      "   Aim for 7-9 hours of quality sleep each night. Create a relaxing bedtime routine and maintain a consistent sleep schedule, even on weekends. This helps regulate your body's internal clock.\n",
      "\n",
      "2. **Morning Mindfulness:**\n",
      "   Start your day with a moment of mindfulness or meditation. Even just 5-10 minutes of focused breathing or gratitude journaling can set a positive tone for the day.\n",
      "\n",
      "3. **Plan and Organize:**\n",
      "   Spend a few minutes in the morning (or the night before) to plan your day. Use a planner or digital tool to prioritize tasks and allocate time effectively. Break tasks into manageable chunks.\n",
      "\n",
      "4. **Incorporate Physical Activity:**\n",
      "   Include some form of exercise in your daily routine. This could be a morning jog, a lunchtime walk, or evening yoga. Regular physical activity boosts energy levels and improves mood.\n",
      "\n",
      "5. **Balanced Nutrition:**\n",
      "   Pay attention to what you eat throughout the day. Aim for balanced meals with a good mix of protein, healthy fats, and carbohydrates. Stay hydrated by drinking plenty of water.\n",
      "\n",
      "Adjust these tips to fit your lifestyle, and remember that small changes can lead to significant improvements over time."
     ]
    }
   ],
   "source": [
    "from openai.types.responses import ResponseTextDeltaEvent\n",
    "\n",
    "from agents import Agent, Runner\n",
    "\n",
    "agent = Agent(\n",
    "    name=\"Joker\",\n",
    "    instructions=\"You are a helpful assistant.\",\n",
    ")\n",
    "\n",
    "result = Runner.run_streamed(agent, input=\"Please fix my daily routine, give 5 tips\")\n",
    "async for event in result.stream_events():\n",
    "    if event.type == \"raw_response_event\" and isinstance(event.data, ResponseTextDeltaEvent):\n",
    "        print(event.data.delta, end=\"\", flush=True)"
   ]
  },
  {
   "cell_type": "code",
   "execution_count": null,
   "metadata": {},
   "outputs": [
    {
     "name": "stdout",
     "output_type": "stream",
     "text": [
      "=== Run starting ===\n",
      "Agent updated: Joker\n",
      "-- Tool was called\n",
      "-- Tool output: 6\n",
      "-- Message output:\n",
      " Here are six jokes for you:\n",
      "\n",
      "1. **Why don't scientists trust atoms?**\n",
      "   Because they make up everything!\n",
      "\n",
      "2. **Did you hear about the mathematician who’s afraid of negative numbers?**\n",
      "   He'll stop at nothing to avoid them.\n",
      "\n",
      "3. **Why was the math book sad?**\n",
      "   Because it had too many problems.\n",
      "\n",
      "4. **What do you call fake spaghetti?**\n",
      "   An impasta!\n",
      "\n",
      "5. **Why did the scarecrow win an award?**\n",
      "   Because he was outstanding in his field!\n",
      "\n",
      "6. **Have you heard about the restaurant on the moon?**\n",
      "   Great food, no atmosphere.\n",
      "=== Run complete ===\n"
     ]
    }
   ],
   "source": [
    "import random\n",
    "from agents import Agent, ItemHelpers, Runner, function_tool\n",
    "\n",
    "@function_tool\n",
    "def how_many_jokes() -> int:\n",
    "    return random.randint(1, 10)\n",
    "\n",
    "agent = Agent(\n",
    "    name=\"Joker\",\n",
    "    instructions=\"First call the `how_many_jokes` tool, then tell that many jokes.\",\n",
    "    tools=[how_many_jokes],\n",
    ")\n",
    "\n",
    "result = Runner.run_streamed(\n",
    "    agent,\n",
    "    input=\"Hello\",\n",
    ")\n",
    "print(\"=== Run starting ===\")\n",
    "\n",
    "async for event in result.stream_events():\n",
    "    # We'll ignore the raw responses event deltas\n",
    "    if event.type == \"raw_response_event\":\n",
    "        continue\n",
    "    # When the agent updates, print that\n",
    "    elif event.type == \"agent_updated_stream_event\":\n",
    "        print(f\"Agent updated: {event.new_agent.name}\")\n",
    "        continue\n",
    "    # When items are generated, print them\n",
    "    elif event.type == \"run_item_stream_event\":\n",
    "        if event.item.type == \"tool_call_item\":\n",
    "            print(\"-- Tool was called\")\n",
    "        elif event.item.type == \"tool_call_output_item\":\n",
    "            print(f\"-- Tool output: {event.item.output}\")\n",
    "        elif event.item.type == \"message_output_item\":\n",
    "            print(f\"-- Message output:\\n {ItemHelpers.text_message_output(event.item)}\")\n",
    "        else:\n",
    "            pass  # Ignore other event types\n",
    "\n",
    "print(\"=== Run complete ===\")"
   ]
  }
 ],
 "metadata": {
  "kernelspec": {
   "display_name": ".venv",
   "language": "python",
   "name": "python3"
  },
  "language_info": {
   "codemirror_mode": {
    "name": "ipython",
    "version": 3
   },
   "file_extension": ".py",
   "mimetype": "text/x-python",
   "name": "python",
   "nbconvert_exporter": "python",
   "pygments_lexer": "ipython3",
   "version": "3.12.6"
  }
 },
 "nbformat": 4,
 "nbformat_minor": 2
}
