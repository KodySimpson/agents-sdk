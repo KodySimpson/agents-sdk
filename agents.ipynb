{
 "cells": [
  {
   "cell_type": "markdown",
   "metadata": {},
   "source": [
    "### Agents\n",
    "Agents in essence are LLMs that accomplish a specific task. They can be supplemented with tools, structured output, and handoff to other agents."
   ]
  },
  {
   "cell_type": "code",
   "execution_count": 12,
   "metadata": {},
   "outputs": [
    {
     "name": "stdout",
     "output_type": "stream",
     "text": [
      "Note: you may need to restart the kernel to use updated packages.\n"
     ]
    },
    {
     "name": "stderr",
     "output_type": "stream",
     "text": [
      "The system cannot find the path specified.\n"
     ]
    }
   ],
   "source": [
    "%pip install openai-agents python-dotenv -qU"
   ]
  },
  {
   "cell_type": "code",
   "execution_count": 14,
   "metadata": {},
   "outputs": [],
   "source": [
    "from dotenv import load_dotenv\n",
    "import os\n",
    "\n",
    "load_dotenv()  # Loads from .env file\n",
    "\n",
    "api_key = os.environ.get(\"OPENAI_API_KEY\")\n",
    "\n",
    "if not api_key:\n",
    "    raise ValueError(\"OPENAI_API_KEY is not set in the environment variables\")\n"
   ]
  },
  {
   "cell_type": "code",
   "execution_count": 27,
   "metadata": {},
   "outputs": [
    {
     "data": {
      "text/plain": [
       "\"I'M DOING GREAT, THANK YOU! HOW ABOUT YOU?\""
      ]
     },
     "execution_count": 27,
     "metadata": {},
     "output_type": "execute_result"
    }
   ],
   "source": [
    "from agents import Agent, Runner\n",
    "\n",
    "agent = Agent(\n",
    "    name=\"Basic Agent\",\n",
    "    instructions=\"You are a helpful assistant. Respond on in all caps.\",\n",
    "    model=\"gpt-4o-mini\"\n",
    ")\n",
    "\n",
    "result = await Runner.run(agent, \"Hi bro, how's life\")\n",
    "result.final_output"
   ]
  },
  {
   "cell_type": "code",
   "execution_count": 17,
   "metadata": {},
   "outputs": [
    {
     "data": {
      "text/plain": [
       "'Why did Pragun bring a pencil to the party?\\n\\nBecause he heard it was going to be a \"write\" good time!'"
      ]
     },
     "execution_count": 17,
     "metadata": {},
     "output_type": "execute_result"
    }
   ],
   "source": [
    "joke_agent = Agent(\n",
    "    name=\"Joke Agent\",\n",
    "    instructions=\"You are a joke teller for seniors, today's their scribble day. You are given a name and you need to tell a joke about it.\",\n",
    ")\n",
    "\n",
    "topic = \"Pragun\"\n",
    "result = await Runner.run(joke_agent, topic)\n",
    "result.final_output"
   ]
  },
  {
   "cell_type": "code",
   "execution_count": 18,
   "metadata": {},
   "outputs": [
    {
     "name": "stdout",
     "output_type": "stream",
     "text": [
      "Original joke:\n",
      "Why did Pragun bring a pencil to the senior scribble day?\n",
      "\n",
      "Because he heard it was the \"write\" thing to do!\n",
      "\n",
      "Translated joke:\n",
      "प्रगुण सीनियर स्क्रिबल डे पर पेंसिल क्यों लाया?\n",
      "\n",
      "क्योंकि उसने सुना कि यही सही काम है!\n"
     ]
    }
   ],
   "source": [
    "language_agent = Agent(\n",
    "    name=\"Language Agent\",\n",
    "    instructions=\"You are a language expert. You are given a joke and you need to rewrite it in Hindi.\",\n",
    ")\n",
    "\n",
    "joke_result = await Runner.run(joke_agent, topic)\n",
    "translated_result = await Runner.run(language_agent, f\"Translate this joke to Hindi: {joke_result.final_output}\")\n",
    "print(f\"Original joke:\\n{joke_result.final_output}\\n\")\n",
    "print(f\"Translated joke:\\n{translated_result.final_output}\")"
   ]
  },
  {
   "cell_type": "markdown",
   "metadata": {},
   "source": [
    "### Structured Outputs\n",
    "Structured outputs are a way to format the output of an LLM in a structured manner. This can be useful for tasks that require specific formatting or data extraction."
   ]
  },
  {
   "cell_type": "code",
   "execution_count": null,
   "metadata": {},
   "outputs": [
    {
     "name": "stdout",
     "output_type": "stream",
     "text": [
      "title='Aloo Ka Paratha' ingredients=['2 cups whole wheat flour', '1 cup water (for kneading)', '1 teaspoon salt', '3 medium-sized potatoes, boiled and mashed', '1 teaspoon cumin seeds', '1 teaspoon red chili powder', '1 teaspoon garam masala', '1 tablespoon finely chopped coriander leaves', '1 green chili, finely chopped', '2 tablespoons oil or ghee', 'Salt to taste', 'Butter or ghee for cooking'] cooking_time=45 servings=4\n"
     ]
    }
   ],
   "source": [
    "from pydantic import BaseModel #basemodel is based on python class\n",
    "from agents import Agent, Runner\n",
    "\n",
    "class Recipe(BaseModel):\n",
    "    title: str\n",
    "    ingredients: list[str]\n",
    "    cooking_time: int # in minutes\n",
    "    servings: int\n",
    "\n",
    "recipe_agent = Agent(\n",
    "    name=\"Recipe Agent\", \n",
    "    instructions=(\"You are an agent for creating recipes. You will be given the name of a food and your job\"\n",
    "                  \" is to output that as an actual detailed recipe. The cooking time should be in minutes.\"),\n",
    "    output_type=Recipe\n",
    ")\n",
    "\n",
    "response = await Runner.run(recipe_agent, \"aloo ka paratha\")\n",
    "recipe = response.final_output\n",
    "\n",
    "print(recipe)\n"
   ]
  },
  {
   "cell_type": "markdown",
   "metadata": {},
   "source": [
    "### Tool Calling\n",
    "Tool calling is a way to extend the capabilities of an LLM by allowing it to call external tools or APIs. This can be useful for tasks that require access to external data or services."
   ]
  },
  {
   "cell_type": "code",
   "execution_count": 29,
   "metadata": {},
   "outputs": [
    {
     "name": "stdout",
     "output_type": "stream",
     "text": [
      "Getting weather for Delhi\n",
      "Getting temperature for Delhi\n"
     ]
    },
    {
     "data": {
      "text/plain": [
       "'The weather in Delhi is sunny, with a temperature of 70 degrees.'"
      ]
     },
     "execution_count": 29,
     "metadata": {},
     "output_type": "execute_result"
    }
   ],
   "source": [
    "from agents import Agent, function_tool\n",
    "\n",
    "@function_tool\n",
    "def get_weather(city: str) -> str:\n",
    "    print(f\"Getting weather for {city}\")\n",
    "    return \"sunny\"\n",
    "\n",
    "@function_tool\n",
    "def get_temperature(city: str) -> str:\n",
    "    print(f\"Getting temperature for {city}\")\n",
    "    return \"70 degrees\"\n",
    "\n",
    "agent = Agent(\n",
    "    name=\"Weather Agent\",\n",
    "    instructions=\"You are the local weather agent. You are given a city and you need to tell the weather and temperature. For any unrelated queries, say I cant help with that.\",\n",
    "    tools=[get_weather, get_temperature]\n",
    ")\n",
    "\n",
    "result = await Runner.run(agent, \"Delhi\")\n",
    "result.final_output"
   ]
  },
  {
   "cell_type": "code",
   "execution_count": null,
   "metadata": {},
   "outputs": [
    {
     "name": "stdout",
     "output_type": "stream",
     "text": [
      "Here are some recent developments in Indian politics:\n",
      "\n",
      "**Delhi Legislative Assembly Elections 2025**\n",
      "\n",
      "The Bharatiya Janata Party (BJP) secured a significant victory in the Delhi Legislative Assembly elections held on February 5, 2025, winning 48 out of 70 seats. This marks the BJP's return to power in Delhi after 27 years. The incumbent Aam Aadmi Party (AAP) faced a substantial defeat, with several prominent leaders, including Arvind Kejriwal, losing their seats. On February 19, the BJP announced Rekha Gupta, MLA from Shalimar Bagh, as the new Chief Minister. ([en.wikipedia.org](https://en.wikipedia.org/wiki/2025_Delhi_Legislative_Assembly_election?utm_source=openai))\n",
      "\n",
      "**Nationalist Congress Party (NCP) Split**\n",
      "\n",
      "In 2023, the Nationalist Congress Party experienced a significant split. Ajit Pawar, a senior leader within the NCP, aligned with the Bharatiya Janata Party (BJP) and the Eknath Shinde-led Shiv Sena, aiming to enhance his political influence and secure a significant role in the Maharashtra state government. This move was driven by his longstanding ambition to become the Chief Minister of Maharashtra, a position he had been unable to attain due to the NCP's alliances with parties such as the Congress and Shiv Sena. ([en.wikipedia.org](https://en.wikipedia.org/wiki/2023_Nationalist_Congress_Party_split?utm_source=openai))\n",
      "\n",
      "**Debate Over Parliamentary Seat Redistribution**\n",
      "\n",
      "India is currently engaged in a politically sensitive debate over the redistribution of parliamentary seats, known as delimitation. The last delimitation occurred in 1973, and a freeze on reapportioning seats based on population is set to expire in 2026. Southern states, which have excelled in population control and economic development, fear losing political influence to more populous northern states if seats are redistributed purely by population. Tamil Nadu Chief Minister MK Stalin and other southern leaders are vocally opposing this potential shift, accusing the Modi-led Bharatiya Janata Party (BJP) of attempting to marginalize them politically. ([ft.com](https://www.ft.com/content/706d222c-6b50-4eb2-b8ec-5d932133063d?utm_source=openai))\n",
      "\n",
      "**BJP's Performance in Telangana**\n",
      "\n",
      "The Bharatiya Janata Party (BJP) has made significant gains in Telangana, winning two key Member of Legislative Council (MLC) polls in strongholds. This marks the first time since the state's creation over a decade ago that the BJP has so many elected representatives from Telangana, including eight MLAs, three MLCs, and eight MPs. ([indianexpress.com](https://indianexpress.com/section/political-pulse/?utm_source=openai))\n",
      "\n",
      "\n",
      "## Recent Developments in Indian Politics:\n",
      "- [How India's most notorious gangster declared war on a Bollywood legend](https://www.ft.com/content/aaa106f4-b0dd-4aa7-b433-4d09839f1d2a?utm_source=openai)\n",
      "- [Will Modi risk redrawing India's electoral map?](https://www.ft.com/content/706d222c-6b50-4eb2-b8ec-5d932133063d?utm_source=openai) \n"
     ]
    }
   ],
   "source": [
    "from agents import WebSearchTool #websearchtool is provided my the openai to search from the internet. There are many more: Filesearchtool, browsertool, terminaltool, codeinterpretation tool\n",
    "\n",
    "news_agent = Agent(\n",
    "    name=\"News Reporter\",\n",
    "    instructions=\"You are a news reporter. Your job is to find recent news articles on the internet about Indian politics.\",\n",
    "    tools=[WebSearchTool()]\n",
    ")\n",
    "\n",
    "result = await Runner.run(news_agent, \"find news\")\n",
    "print(result.final_output)"
   ]
  }
 ],
 "metadata": {
  "kernelspec": {
   "display_name": ".venv",
   "language": "python",
   "name": "python3"
  },
  "language_info": {
   "codemirror_mode": {
    "name": "ipython",
    "version": 3
   },
   "file_extension": ".py",
   "mimetype": "text/x-python",
   "name": "python",
   "nbconvert_exporter": "python",
   "pygments_lexer": "ipython3",
   "version": "3.12.6"
  }
 },
 "nbformat": 4,
 "nbformat_minor": 2
}
