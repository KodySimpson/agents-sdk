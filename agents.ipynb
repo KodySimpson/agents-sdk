{
 "cells": [
  {
   "cell_type": "markdown",
   "metadata": {},
   "source": [
    "### Agents\n",
    "Agents in essence are LLMs that accomplish a specific task. They can be supplemented with tools, structured output, and handoff to other agents."
   ]
  },
  {
   "cell_type": "code",
   "execution_count": 12,
   "metadata": {},
   "outputs": [
    {
     "name": "stdout",
     "output_type": "stream",
     "text": [
      "Note: you may need to restart the kernel to use updated packages.\n"
     ]
    },
    {
     "name": "stderr",
     "output_type": "stream",
     "text": [
      "The system cannot find the path specified.\n"
     ]
    }
   ],
   "source": [
    "%pip install openai-agents python-dotenv -qU"
   ]
  },
  {
   "cell_type": "code",
   "execution_count": 14,
   "metadata": {},
   "outputs": [],
   "source": [
    "from dotenv import load_dotenv\n",
    "import os\n",
    "\n",
    "load_dotenv()  # Loads from .env file\n",
    "\n",
    "api_key = os.environ.get(\"OPENAI_API_KEY\")\n",
    "\n",
    "if not api_key:\n",
    "    raise ValueError(\"OPENAI_API_KEY is not set in the environment variables\")\n"
   ]
  },
  {
   "cell_type": "code",
   "execution_count": 16,
   "metadata": {},
   "outputs": [
    {
     "data": {
      "text/plain": [
       "'HELLO! NOT MUCH, JUST HERE TO HELP YOU. HOW ABOUT YOU?'"
      ]
     },
     "execution_count": 16,
     "metadata": {},
     "output_type": "execute_result"
    }
   ],
   "source": [
    "from agents import Agent, Runner\n",
    "\n",
    "agent = Agent(\n",
    "    name=\"Basic Agent\",\n",
    "    instructions=\"You are a helpful assistant. Respond on in all caps.\",\n",
    "    model=\"gpt-4o-mini\"\n",
    ")\n",
    "\n",
    "result = await Runner.run(agent, \"Hello! What's up dude\")\n",
    "result.final_output"
   ]
  },
  {
   "cell_type": "code",
   "execution_count": 17,
   "metadata": {},
   "outputs": [
    {
     "data": {
      "text/plain": [
       "'Why did Pragun bring a pencil to the party?\\n\\nBecause he heard it was going to be a \"write\" good time!'"
      ]
     },
     "execution_count": 17,
     "metadata": {},
     "output_type": "execute_result"
    }
   ],
   "source": [
    "joke_agent = Agent(\n",
    "    name=\"Joke Agent\",\n",
    "    instructions=\"You are a joke teller for seniors, today's their scribble day. You are given a name and you need to tell a joke about it.\",\n",
    ")\n",
    "\n",
    "topic = \"Pragun\"\n",
    "result = await Runner.run(joke_agent, topic)\n",
    "result.final_output"
   ]
  },
  {
   "cell_type": "code",
   "execution_count": 18,
   "metadata": {},
   "outputs": [
    {
     "name": "stdout",
     "output_type": "stream",
     "text": [
      "Original joke:\n",
      "Why did Pragun bring a pencil to the senior scribble day?\n",
      "\n",
      "Because he heard it was the \"write\" thing to do!\n",
      "\n",
      "Translated joke:\n",
      "प्रगुण सीनियर स्क्रिबल डे पर पेंसिल क्यों लाया?\n",
      "\n",
      "क्योंकि उसने सुना कि यही सही काम है!\n"
     ]
    }
   ],
   "source": [
    "language_agent = Agent(\n",
    "    name=\"Language Agent\",\n",
    "    instructions=\"You are a language expert. You are given a joke and you need to rewrite it in Hindi.\",\n",
    ")\n",
    "\n",
    "joke_result = await Runner.run(joke_agent, topic)\n",
    "translated_result = await Runner.run(language_agent, f\"Translate this joke to Hindi: {joke_result.final_output}\")\n",
    "print(f\"Original joke:\\n{joke_result.final_output}\\n\")\n",
    "print(f\"Translated joke:\\n{translated_result.final_output}\")"
   ]
  },
  {
   "cell_type": "markdown",
   "metadata": {},
   "source": [
    "### Structured Outputs\n",
    "Structured outputs are a way to format the output of an LLM in a structured manner. This can be useful for tasks that require specific formatting or data extraction."
   ]
  },
  {
   "cell_type": "code",
   "execution_count": 24,
   "metadata": {},
   "outputs": [
    {
     "name": "stdout",
     "output_type": "stream",
     "text": [
      "title='Aloo Ka Paratha' ingredients=['2 cups whole wheat flour', '1 cup water (for kneading)', '1 teaspoon salt', '3 medium-sized potatoes, boiled and mashed', '1 teaspoon cumin seeds', '1 teaspoon red chili powder', '1 teaspoon garam masala', '1 tablespoon finely chopped coriander leaves', '1 green chili, finely chopped', '2 tablespoons oil or ghee', 'Salt to taste', 'Butter or ghee for cooking'] cooking_time=45 servings=4\n"
     ]
    }
   ],
   "source": [
    "from pydantic import BaseModel\n",
    "from agents import Agent, Runner\n",
    "\n",
    "class Recipe(BaseModel):\n",
    "    title: str\n",
    "    ingredients: list[str]\n",
    "    cooking_time: int # in minutes\n",
    "    servings: int\n",
    "\n",
    "recipe_agent = Agent(\n",
    "    name=\"Recipe Agent\", \n",
    "    instructions=(\"You are an agent for creating recipes. You will be given the name of a food and your job\"\n",
    "                  \" is to output that as an actual detailed recipe. The cooking time should be in minutes.\"),\n",
    "    output_type=Recipe\n",
    ")\n",
    "\n",
    "response = await Runner.run(recipe_agent, \"aloo ka paratha\")\n",
    "recipe = response.final_output\n",
    "\n",
    "print(recipe)\n"
   ]
  },
  {
   "cell_type": "markdown",
   "metadata": {},
   "source": [
    "### Tool Calling\n",
    "Tool calling is a way to extend the capabilities of an LLM by allowing it to call external tools or APIs. This can be useful for tasks that require access to external data or services."
   ]
  },
  {
   "cell_type": "code",
   "execution_count": 20,
   "metadata": {},
   "outputs": [
    {
     "name": "stdout",
     "output_type": "stream",
     "text": [
      "Getting weather for Dallas\n",
      "Getting temperature for Dallas\n"
     ]
    },
    {
     "data": {
      "text/plain": [
       "'The weather in Dallas is currently sunny, with a temperature of 70 degrees.'"
      ]
     },
     "execution_count": 20,
     "metadata": {},
     "output_type": "execute_result"
    }
   ],
   "source": [
    "from agents import Agent, function_tool\n",
    "\n",
    "@function_tool\n",
    "def get_weather(city: str) -> str:\n",
    "    print(f\"Getting weather for {city}\")\n",
    "    return \"sunny\"\n",
    "\n",
    "@function_tool\n",
    "def get_temperature(city: str) -> str:\n",
    "    print(f\"Getting temperature for {city}\")\n",
    "    return \"70 degrees\"\n",
    "\n",
    "agent = Agent(\n",
    "    name=\"Weather Agent\",\n",
    "    instructions=\"You are the local weather agent. You are given a city and you need to tell the weather and temperature. For any unrelated queries, say I cant help with that.\",\n",
    "    tools=[get_weather, get_temperature]\n",
    ")\n",
    "\n",
    "result = await Runner.run(agent, \"Dallas\")\n",
    "result.final_output"
   ]
  },
  {
   "cell_type": "code",
   "execution_count": 21,
   "metadata": {},
   "outputs": [
    {
     "name": "stdout",
     "output_type": "stream",
     "text": [
      "Here are some recent developments in U.S. politics:\n",
      "\n",
      "**Democratic Party's Internal Challenges**\n",
      "\n",
      "The Democratic Party is facing internal divisions, particularly highlighted during recent budget battles. Some members supported Republican bills, while others opposed them, complicating the party's unified stance against the Trump administration. Calls for new leadership, including critiques of figures like Chuck Schumer, have emerged. The party is urged to establish a clear message and engage voters actively ahead of the midterm elections. ([ft.com](https://www.ft.com/content/13b4c22d-23e0-4f62-bd5f-5a7afd60e83d?utm_source=openai))\n",
      "\n",
      "**Donald Trump's Influence on Cultural Institutions**\n",
      "\n",
      "Former President Donald Trump continues to assert influence over American institutions. As chair of the John F. Kennedy Center for the Performing Arts, he aims to remove \"woke\" influences and discourage performances he deems \"anti-American.\" This cultural campaign parallels actions in academia, particularly targeting Ivy League schools like Columbia University, which recently lost $400 million in federal grants over handling of Jewish student harassment. Trump's efforts appear to be a broader attack on elite institutions and liberal influences in America. ([ft.com](https://www.ft.com/content/7bbb477a-0bf4-4222-9e28-817c2ae996ec?utm_source=openai))\n",
      "\n",
      "**Legal Proceedings Involving Georgetown Scholar**\n",
      "\n",
      "A federal judge in Alexandria, Virginia, has ordered that Georgetown scholar Badar Khan Suri cannot be deported until a court decision is made. Suri was detained by the Trump Administration, accused of spreading Hamas propaganda due to his social media posts and his wife's pro-Palestinian sentiments. His attorney argues that his detention violates his free speech and due process rights, noting that he holds a valid visa and has no criminal record. Georgetown University supports Suri's right to free speech and expects a fair legal process. ([apnews.com](https://apnews.com/article/21fc205cebbbbba2ed260050df04702a?utm_source=openai))\n",
      "\n",
      "**Debate Over Misinformation and Information Fragmentation**\n",
      "\n",
      "An article argues that the focus on misinformation distracts from a more significant issue: the fragmentation of information sources leading to different groups not sharing the same information, regardless of its truthfulness. This fragmentation has led to information bubbles and political polarization, contributing to democratic dysfunction and the widening ideological divide, especially among younger generations. The author stresses that this division in information consumption contributes to democratic dysfunction and the widening ideological divide, especially among younger generations. ([ft.com](https://www.ft.com/content/bbc80e1c-60a7-4f3d-a9a1-a4e68cf36912?utm_source=openai))\n",
      "\n",
      "\n",
      "## Recent Developments in U.S. Politics:\n",
      "- [Transcript: Swamp Notes - Why Democrats can't get their act together](https://www.ft.com/content/13b4c22d-23e0-4f62-bd5f-5a7afd60e83d?utm_source=openai)\n",
      "- [Donald Trump takes on America's elite](https://www.ft.com/content/7bbb477a-0bf4-4222-9e28-817c2ae996ec?utm_source=openai)\n",
      "- [US government cannot deport Georgetown scholar until court rules, judge orders](https://apnews.com/article/21fc205cebbbbba2ed260050df04702a?utm_source=openai) \n"
     ]
    }
   ],
   "source": [
    "from agents import WebSearchTool\n",
    "\n",
    "news_agent = Agent(\n",
    "    name=\"News Reporter\",\n",
    "    instructions=\"You are a news reporter. Your job is to find recent news articles on the internet about US politics.\",\n",
    "    tools=[WebSearchTool()]\n",
    ")\n",
    "\n",
    "result = await Runner.run(news_agent, \"find news\")\n",
    "print(result.final_output)"
   ]
  }
 ],
 "metadata": {
  "kernelspec": {
   "display_name": ".venv",
   "language": "python",
   "name": "python3"
  },
  "language_info": {
   "codemirror_mode": {
    "name": "ipython",
    "version": 3
   },
   "file_extension": ".py",
   "mimetype": "text/x-python",
   "name": "python",
   "nbconvert_exporter": "python",
   "pygments_lexer": "ipython3",
   "version": "3.12.6"
  }
 },
 "nbformat": 4,
 "nbformat_minor": 2
}
